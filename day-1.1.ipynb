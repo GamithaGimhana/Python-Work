{
 "cells": [
  {
   "cell_type": "markdown",
   "id": "11f76eb8",
   "metadata": {},
   "source": [
    "Starting Jupyter Notebook"
   ]
  },
  {
   "cell_type": "markdown",
   "id": "00ad5559",
   "metadata": {},
   "source": [
    "print(\"Hello World\")"
   ]
  },
  {
   "cell_type": "markdown",
   "id": "fc745197",
   "metadata": {},
   "source": [
    "Sample python code"
   ]
  },
  {
   "cell_type": "code",
   "execution_count": null,
   "id": "883d1fb4",
   "metadata": {},
   "outputs": [],
   "source": [
    "a = 10\n",
    "b = 20\n",
    "c = a + b\n",
    "print(c) "
   ]
  },
  {
   "cell_type": "markdown",
   "id": "6113153f",
   "metadata": {},
   "source": [
    "Syntax for creating variable"
   ]
  },
  {
   "cell_type": "code",
   "execution_count": null,
   "id": "35ede1da",
   "metadata": {},
   "outputs": [],
   "source": [
    "my_var = 3\n",
    "print(my_var)\n",
    "print(type(my_var))"
   ]
  },
  {
   "cell_type": "markdown",
   "id": "ee7063ad",
   "metadata": {},
   "source": [
    "Change variable type"
   ]
  },
  {
   "cell_type": "code",
   "execution_count": null,
   "id": "c2fd8af7",
   "metadata": {},
   "outputs": [],
   "source": [
    "my_var = 3.0\n",
    "print(my_var)\n",
    "print(type(my_var))"
   ]
  },
  {
   "cell_type": "markdown",
   "id": "2253ec6f",
   "metadata": {},
   "source": [
    "Rules for naming variables"
   ]
  },
  {
   "cell_type": "code",
   "execution_count": null,
   "id": "b50c24e0",
   "metadata": {},
   "outputs": [],
   "source": [
    "my_var = 3     # valid\n",
    "_my_var = 3    # valid\n",
    "my_var2 = 3    # valid\n",
    "MY_VAR = 3     # valid but only recommended for constants\n",
    "myVar = 3      # valid but not recommended\n",
    "myvar = 3      # valid but not recommended\n",
    "\n",
    "# 2my_var = 3  # invalid\n",
    "# my-var = 3   # invalid\n",
    "# my var = 3   # invalid"
   ]
  },
  {
   "cell_type": "markdown",
   "id": "e9fdbff1",
   "metadata": {},
   "source": [
    "Define a complex type number"
   ]
  },
  {
   "cell_type": "code",
   "execution_count": null,
   "id": "e87f54b7",
   "metadata": {},
   "outputs": [],
   "source": [
    "my_var = 10 + 12j\n",
    "\n",
    "print(my_var)\n",
    "print(type(my_var))"
   ]
  },
  {
   "cell_type": "markdown",
   "id": "7855061b",
   "metadata": {},
   "source": [
    "Define a scientific number in float type"
   ]
  },
  {
   "cell_type": "code",
   "execution_count": null,
   "id": "599d0570",
   "metadata": {},
   "outputs": [],
   "source": [
    "my_num = 4.958e9\n",
    "print(my_num)\n",
    "print(type(my_num))"
   ]
  },
  {
   "cell_type": "markdown",
   "id": "4b56610f",
   "metadata": {},
   "source": [
    "Casting a int variable to float"
   ]
  },
  {
   "cell_type": "code",
   "execution_count": null,
   "id": "a9f89f2a",
   "metadata": {},
   "outputs": [],
   "source": [
    "a = 10\n",
    "b = float(a)\n",
    "print(b)\n",
    "print(type(b))  \n",
    "\n",
    "\n",
    "c = 7.3\n",
    "d = int(c)\n",
    "print(d)\n",
    "print(type(d))"
   ]
  },
  {
   "cell_type": "markdown",
   "id": "d1157168",
   "metadata": {},
   "source": [
    "Python Lists"
   ]
  },
  {
   "cell_type": "code",
   "execution_count": null,
   "id": "8c0d9a08",
   "metadata": {},
   "outputs": [],
   "source": [
    "my_list = [1, 2, 3, 4, 5]   # Define Python a List\n",
    "print(my_list)\n",
    "print(type(my_list))\n",
    "\n",
    "print(my_list[2])  # Accessing third element"
   ]
  },
  {
   "cell_type": "markdown",
   "id": "a27975d2",
   "metadata": {},
   "source": [
    "Immutable memory address"
   ]
  },
  {
   "cell_type": "code",
   "execution_count": null,
   "id": "ba8d0400",
   "metadata": {},
   "outputs": [],
   "source": [
    "x = 5\n",
    "print(id(x))    # Memory address of x before modification\n",
    "\n",
    "x = 10\n",
    "print(id(x))    # Memory address of x after modification"
   ]
  },
  {
   "cell_type": "markdown",
   "id": "3055736d",
   "metadata": {},
   "source": [
    "Mutable memory address"
   ]
  },
  {
   "cell_type": "code",
   "execution_count": null,
   "id": "8f6ecd5a",
   "metadata": {},
   "outputs": [],
   "source": [
    "my_list = [1, 2, 3, 4, 5]   # Define Python a List\n",
    "print(id(my_list))  # Memory address of list\n",
    "\n",
    "my_list[2] = 10   # Modifying third element\n",
    "print(my_list)\n",
    "\n",
    "print(id(my_list))  # Memory address of list after modification"
   ]
  },
  {
   "cell_type": "markdown",
   "id": "8a36c1b4",
   "metadata": {},
   "source": [
    "List can contain different data types"
   ]
  },
  {
   "cell_type": "code",
   "execution_count": null,
   "id": "9d883ad3",
   "metadata": {},
   "outputs": [],
   "source": [
    "my_list = [1, 2, 3, 4, 5, 2]    # Define Python a List with duplicate values\n",
    "print(my_list)\n",
    "\n",
    "my_list = [1, 2.5, 'Hello', True, 3+4j]   # Define Python a List with different data types\n",
    "print(my_list)  \n",
    "print(type(my_list))"
   ]
  },
  {
   "cell_type": "markdown",
   "id": "d3cecb5b",
   "metadata": {},
   "source": [
    "Find length of a list"
   ]
  },
  {
   "cell_type": "code",
   "execution_count": null,
   "id": "12631723",
   "metadata": {},
   "outputs": [],
   "source": [
    "my_list = [1, 2, 3, 4, 5]\n",
    "print(len(my_list))  # Length of the list"
   ]
  },
  {
   "cell_type": "markdown",
   "id": "1f5e378b",
   "metadata": {},
   "source": [
    "Range of indexes"
   ]
  },
  {
   "cell_type": "code",
   "execution_count": null,
   "id": "7321f68c",
   "metadata": {},
   "outputs": [],
   "source": [
    "my_list = [1, 2, 3, 4, 5, 6, 7, 8, 9, 10]\n",
    "print(my_list[2:5])  # Slicing from index 2 to 4\n",
    "\n",
    "print(my_list[2:])   # Slicing from index 2 to end\n",
    "\n",
    "print(my_list[:5])   # Slicing from start to index 4\n",
    "\n",
    "print(my_list[-4])    # Accessing fourth element from the end"
   ]
  },
  {
   "cell_type": "markdown",
   "id": "75acdb7d",
   "metadata": {},
   "source": [
    "Modifying index range in a list"
   ]
  },
  {
   "cell_type": "code",
   "execution_count": null,
   "id": "9718ddc7",
   "metadata": {},
   "outputs": [],
   "source": [
    "my_list = [10, 8, 9, 15, 20, 18, 26]\n",
    "\n",
    "my_list[2:5] = [90, 60, 80]  # Modifying elements from index 2 to 4\n",
    "print(my_list)  "
   ]
  },
  {
   "cell_type": "markdown",
   "id": "d439dbfb",
   "metadata": {},
   "source": [
    "Insert a new value to middle of a list"
   ]
  },
  {
   "cell_type": "code",
   "execution_count": null,
   "id": "a263fe8e",
   "metadata": {},
   "outputs": [],
   "source": [
    "my_list = [1, 2, 3, 4, 5, 6, 7, 8, 9, 10]\n",
    "\n",
    "my_list.insert(2, 20)  # Inserting 20 at index 2\n",
    "print(my_list)"
   ]
  },
  {
   "cell_type": "markdown",
   "id": "66d7f907",
   "metadata": {},
   "source": [
    "Append a new value to end of a list"
   ]
  },
  {
   "cell_type": "code",
   "execution_count": null,
   "id": "9e50cb9f",
   "metadata": {},
   "outputs": [],
   "source": [
    "my_list = [1, 2, 3, 4, 5, 6, 7, 8, 9, 10]\n",
    "\n",
    "my_list.append(20)  # Appending 20 at the end\n",
    "print(my_list)"
   ]
  },
  {
   "cell_type": "markdown",
   "id": "14c54692",
   "metadata": {},
   "source": [
    "Remove items from a list"
   ]
  },
  {
   "cell_type": "code",
   "execution_count": null,
   "id": "b6e0a0ac",
   "metadata": {},
   "outputs": [],
   "source": [
    "my_list = ['Dog', 'Cat', 'Rabbit', 'Horse']\n",
    "my_list.remove('Cat')  # Removing 'Cat' from the list\n",
    "print(my_list)\n",
    "\n",
    "\n",
    "my_list = ['Dog', 'Cat', 'Rabbit', 'Horse', 'Cat']\n",
    "my_list.remove('Cat')  # Removing first occurrence of 'Cat' from the list\n",
    "print(my_list)\n"
   ]
  },
  {
   "cell_type": "markdown",
   "id": "314f044d",
   "metadata": {},
   "source": [
    "Removing and returning a item from a list"
   ]
  },
  {
   "cell_type": "code",
   "execution_count": null,
   "id": "774a5ee9",
   "metadata": {},
   "outputs": [],
   "source": [
    "my_list = ['Dog', 'Cat', 'Rabbit']\n",
    "\n",
    "my_var = my_list.pop(1)  # Removing and returning the item at index 1\n",
    "\n",
    "print(my_list)           # Output: ['Dog', 'Rabbit']\n",
    "print(my_var)           # Output: 'Cat'"
   ]
  },
  {
   "cell_type": "markdown",
   "id": "2a2676c3",
   "metadata": {},
   "source": [
    "Deleting a item from a list"
   ]
  },
  {
   "cell_type": "code",
   "execution_count": null,
   "id": "5ac36370",
   "metadata": {},
   "outputs": [],
   "source": [
    "my_list = ['Dog', 'Cat', 'Rabbit', 'Horse']\n",
    "\n",
    "del my_list[1]  # Deleting item at index 1\n",
    "\n",
    "print(my_list)   # Output: ['Dog', 'Rabbit', 'Horse']"
   ]
  },
  {
   "cell_type": "markdown",
   "id": "80d298d7",
   "metadata": {},
   "source": [
    "Deleting a list"
   ]
  },
  {
   "cell_type": "code",
   "execution_count": null,
   "id": "6fae005a",
   "metadata": {},
   "outputs": [],
   "source": [
    "my_list = ['Dog', 'Cat', 'Rabbit', 'Horse']\n",
    "\n",
    "del my_list  # Deleting the entire list\n",
    "\n",
    "# print(my_list)  # This will raise an error since my_list is deleted"
   ]
  },
  {
   "cell_type": "markdown",
   "id": "80a94684",
   "metadata": {},
   "source": [
    "Clearing a list"
   ]
  },
  {
   "cell_type": "code",
   "execution_count": null,
   "id": "0e679622",
   "metadata": {},
   "outputs": [],
   "source": [
    "my_list = ['Dog', 'Cat', 'Rabbit', 'Horse']\n",
    "\n",
    "my_list.clear()  # Clearing all items from the list\n",
    "\n",
    "print(my_list)   # Output: []\n",
    "print(len(my_list))  # Output: 0"
   ]
  },
  {
   "cell_type": "markdown",
   "id": "212c2b2a",
   "metadata": {},
   "source": [
    "Sorting a list"
   ]
  },
  {
   "cell_type": "code",
   "execution_count": null,
   "id": "de873040",
   "metadata": {},
   "outputs": [],
   "source": [
    "my_list = ['Dog', 'Cat', 'Rabbit', 'Horse']\n",
    "\n",
    "my_list.sort()  # Sorting the list in ascending order\n",
    "print(my_list)  # Output: ['Cat', 'Dog', 'Horse', 'Rabbit']"
   ]
  },
  {
   "cell_type": "markdown",
   "id": "8d94b18d",
   "metadata": {},
   "source": [
    "Activity Sorting a list"
   ]
  },
  {
   "cell_type": "code",
   "execution_count": null,
   "id": "bef6ebd7",
   "metadata": {},
   "outputs": [],
   "source": [
    "my_list = [\"apple\", \"32\", \"rat\", \"Grapes\", \"rabbit\"]\n",
    "\n",
    "my_list.sort()\n",
    "\n",
    "print(my_list)  # Output: ['32', 'Grapes', 'apple', 'rabbit', 'rat']"
   ]
  },
  {
   "cell_type": "markdown",
   "id": "28fa8487",
   "metadata": {},
   "source": [
    "Sorting the list in descending order"
   ]
  },
  {
   "cell_type": "code",
   "execution_count": null,
   "id": "f1d07861",
   "metadata": {},
   "outputs": [],
   "source": [
    "my_list = ['Dog', 'Cat', 'Rabbit', 'Horse']\n",
    "\n",
    "my_list.sort(reverse=True)  # Sorting the list in descending order\n",
    "print(my_list)  # Output: ['Rabbit', 'Horse', 'Dog', 'Cat']"
   ]
  },
  {
   "cell_type": "markdown",
   "id": "51d0224e",
   "metadata": {},
   "source": [
    "Reversing the list"
   ]
  },
  {
   "cell_type": "code",
   "execution_count": null,
   "id": "3cb387bf",
   "metadata": {},
   "outputs": [],
   "source": [
    "my_list = ['Dog', 'Cat', 'Rabbit', 'Horse']\n",
    "\n",
    "my_list.reverse()  # Reversing the list\n",
    "print(my_list)  # Output: ['Horse', 'Rabbit', 'Cat', 'Dog"
   ]
  },
  {
   "cell_type": "markdown",
   "id": "9da3cef2",
   "metadata": {},
   "source": [
    "Creating a copy of a list to backup "
   ]
  },
  {
   "cell_type": "code",
   "execution_count": null,
   "id": "f0bac29f",
   "metadata": {},
   "outputs": [],
   "source": [
    "my_list = ['Dog', 'Cat', 'Rabbit', 'Horse']\n",
    "\n",
    "# my_list_1 = my_list     # Creating a reference to the same list in same memory location\n",
    "# print(my_list_1)  # Output: ['Dog', 'Cat', 'Rabbit', 'Horse']   \n",
    "\n",
    "my_list_1 = my_list.copy()  # Creating a shallow copy of the list in different memory location \n",
    "print(my_list_1)  # Output: ['Dog', 'Cat', 'Rabbit', 'Horse']"
   ]
  },
  {
   "cell_type": "markdown",
   "id": "eaedd5c8",
   "metadata": {},
   "source": [
    "Joining two lists together"
   ]
  },
  {
   "cell_type": "code",
   "execution_count": null,
   "id": "d6127e5e",
   "metadata": {},
   "outputs": [],
   "source": [
    "my_list_1 = [10, 20, 5, 8]\n",
    "my_list_2 = [9, 13, 15]\n",
    "\n",
    "my_list_3 = my_list_1 + my_list_2  # joining two lists together\n",
    "print(my_list_3)  # Output: [10, 20, 5, 8, 9, 13, 15]"
   ]
  },
  {
   "cell_type": "markdown",
   "id": "d285f525",
   "metadata": {},
   "source": [
    "Extending a list by adding another list"
   ]
  },
  {
   "cell_type": "code",
   "execution_count": null,
   "id": "290f2e35",
   "metadata": {},
   "outputs": [],
   "source": [
    "my_list_1 = [10, 20, 5, 8]\n",
    "my_list_2 = [9, 13, 15]\n",
    "\n",
    "my_list_1.extend(my_list_2)  # Extending my_list_1 by adding elements from my_list_2\n",
    "print(my_list_1)  # Output: [10, 20, 5, 8, 9, 13, 15]"
   ]
  }
 ],
 "metadata": {
  "kernelspec": {
   "display_name": "Python 3",
   "language": "python",
   "name": "python3"
  },
  "language_info": {
   "codemirror_mode": {
    "name": "ipython",
    "version": 3
   },
   "file_extension": ".py",
   "mimetype": "text/x-python",
   "name": "python",
   "nbconvert_exporter": "python",
   "pygments_lexer": "ipython3",
   "version": "3.13.7"
  }
 },
 "nbformat": 4,
 "nbformat_minor": 5
}
