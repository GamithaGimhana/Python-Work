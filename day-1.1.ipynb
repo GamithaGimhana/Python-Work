{
 "cells": [
  {
   "cell_type": "markdown",
   "id": "11f76eb8",
   "metadata": {},
   "source": [
    "Starting Jupyter Notebook"
   ]
  },
  {
   "cell_type": "markdown",
   "id": "00ad5559",
   "metadata": {},
   "source": [
    "print(\"Hello World\")"
   ]
  },
  {
   "cell_type": "markdown",
   "id": "fc745197",
   "metadata": {},
   "source": [
    "Sample python code"
   ]
  },
  {
   "cell_type": "code",
   "execution_count": null,
   "id": "883d1fb4",
   "metadata": {},
   "outputs": [],
   "source": [
    "a = 10\n",
    "b = 20\n",
    "c = a + b\n",
    "print(c) "
   ]
  },
  {
   "cell_type": "markdown",
   "id": "6113153f",
   "metadata": {},
   "source": [
    "Syntax for creating variable"
   ]
  },
  {
   "cell_type": "code",
   "execution_count": null,
   "id": "35ede1da",
   "metadata": {},
   "outputs": [],
   "source": [
    "my_var = 3\n",
    "print(my_var)\n",
    "print(type(my_var))"
   ]
  },
  {
   "cell_type": "markdown",
   "id": "ee7063ad",
   "metadata": {},
   "source": [
    "Change variable type"
   ]
  },
  {
   "cell_type": "code",
   "execution_count": null,
   "id": "c2fd8af7",
   "metadata": {},
   "outputs": [],
   "source": [
    "my_var = 3.0\n",
    "print(my_var)\n",
    "print(type(my_var))"
   ]
  },
  {
   "cell_type": "markdown",
   "id": "2253ec6f",
   "metadata": {},
   "source": [
    "Rules for naming variables"
   ]
  },
  {
   "cell_type": "code",
   "execution_count": null,
   "id": "b50c24e0",
   "metadata": {},
   "outputs": [],
   "source": [
    "my_var = 3     # valid\n",
    "_my_var = 3    # valid\n",
    "my_var2 = 3    # valid\n",
    "MY_VAR = 3     # valid but only recommended for constants\n",
    "myVar = 3      # valid but not recommended\n",
    "myvar = 3      # valid but not recommended\n",
    "\n",
    "# 2my_var = 3  # invalid\n",
    "# my-var = 3   # invalid\n",
    "# my var = 3   # invalid\n"
   ]
  },
  {
   "cell_type": "markdown",
   "id": "e9fdbff1",
   "metadata": {},
   "source": [
    "Define a complex type number"
   ]
  },
  {
   "cell_type": "code",
   "execution_count": null,
   "id": "e87f54b7",
   "metadata": {},
   "outputs": [],
   "source": [
    "my_var = 10 + 12j\n",
    "\n",
    "print(my_var)\n",
    "print(type(my_var))"
   ]
  },
  {
   "cell_type": "markdown",
   "id": "7855061b",
   "metadata": {},
   "source": [
    "Define a scientific number in float type"
   ]
  },
  {
   "cell_type": "code",
   "execution_count": null,
   "id": "599d0570",
   "metadata": {},
   "outputs": [],
   "source": [
    "my_num = 4.958e9\n",
    "print(my_num)\n",
    "print(type(my_num))"
   ]
  },
  {
   "cell_type": "markdown",
   "id": "4b56610f",
   "metadata": {},
   "source": [
    "Casting a int variable to float"
   ]
  },
  {
   "cell_type": "code",
   "execution_count": null,
   "id": "a9f89f2a",
   "metadata": {},
   "outputs": [],
   "source": [
    "a = 10\n",
    "b = float(a)\n",
    "print(b)\n",
    "print(type(b))  \n",
    "\n",
    "\n",
    "c = 7.3\n",
    "d = int(c)\n",
    "print(d)\n",
    "print(type(d))"
   ]
  },
  {
   "cell_type": "markdown",
   "id": "d1157168",
   "metadata": {},
   "source": [
    "Python Lists"
   ]
  },
  {
   "cell_type": "code",
   "execution_count": null,
   "id": "8c0d9a08",
   "metadata": {},
   "outputs": [],
   "source": [
    "my_list = [1, 2, 3, 4, 5]   # Define Python a List\n",
    "print(my_list)\n",
    "print(type(my_list))\n",
    "\n",
    "print(my_list[2])  # Accessing third element"
   ]
  }
 ],
 "metadata": {
  "kernelspec": {
   "display_name": "Python 3",
   "language": "python",
   "name": "python3"
  },
  "language_info": {
   "codemirror_mode": {
    "name": "ipython",
    "version": 3
   },
   "file_extension": ".py",
   "mimetype": "text/x-python",
   "name": "python",
   "nbconvert_exporter": "python",
   "pygments_lexer": "ipython3",
   "version": "3.13.7"
  }
 },
 "nbformat": 4,
 "nbformat_minor": 5
}
