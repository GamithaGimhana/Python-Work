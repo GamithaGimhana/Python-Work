{
 "cells": [
  {
   "cell_type": "markdown",
   "id": "f1dc7a00",
   "metadata": {},
   "source": [
    "Python Tuples"
   ]
  },
  {
   "cell_type": "code",
   "execution_count": null,
   "id": "1eb9dc5c",
   "metadata": {},
   "outputs": [],
   "source": [
    "sports = (\"Soccer\", \"Basketball\", \"Baseball\", \"Tennis\", \"Cricket\")\n",
    "print(sports)\n",
    "print(type(sports))"
   ]
  },
  {
   "cell_type": "markdown",
   "id": "39ecc1f4",
   "metadata": {},
   "source": [
    "Changing a Tuple -> TypeError"
   ]
  },
  {
   "cell_type": "code",
   "execution_count": null,
   "id": "57e1cc30",
   "metadata": {},
   "outputs": [],
   "source": [
    "# sports[1] = \"Football\"  # This will raise an error because tuples are immutable/ unchangeable. \n"
   ]
  },
  {
   "cell_type": "markdown",
   "id": "b09f070e",
   "metadata": {},
   "source": [
    "Tuple Length"
   ]
  },
  {
   "cell_type": "code",
   "execution_count": null,
   "id": "c9bcbb91",
   "metadata": {},
   "outputs": [],
   "source": [
    "sports = (\"Soccer\", \"Basketball\", \"Baseball\", \"Tennis\", \"Cricket\")\n",
    "print(len(sports))"
   ]
  },
  {
   "cell_type": "markdown",
   "id": "37855ff4",
   "metadata": {},
   "source": [
    "Tuple can contain any data types -> all collections can"
   ]
  },
  {
   "cell_type": "code",
   "execution_count": null,
   "id": "dd5417c1",
   "metadata": {},
   "outputs": [],
   "source": [
    "tuple = (\"tennis\", 30, True)"
   ]
  },
  {
   "cell_type": "markdown",
   "id": "76646575",
   "metadata": {},
   "source": [
    "Tuple with one element"
   ]
  },
  {
   "cell_type": "code",
   "execution_count": null,
   "id": "7f1916f7",
   "metadata": {},
   "outputs": [],
   "source": [
    "sports = (\"Cricket\")  # Single element tuple\n",
    "print(type(sports))  # This will show as String, not Tuple"
   ]
  },
  {
   "cell_type": "markdown",
   "id": "1bd127eb",
   "metadata": {},
   "source": [
    "Negative Indexing "
   ]
  },
  {
   "cell_type": "code",
   "execution_count": null,
   "id": "8f98a375",
   "metadata": {},
   "outputs": [],
   "source": [
    "sports = (\"Soccer\", \"Basketball\", \"Baseball\", \"Tennis\", \"Cricket\")\n",
    "print(sports)\n",
    "print(sports[0])  # Accessing the first element\n",
    "print(sports[-1])  # Accessing the last element, negative indexing"
   ]
  },
  {
   "cell_type": "markdown",
   "id": "add20753",
   "metadata": {},
   "source": [
    "Index Range"
   ]
  },
  {
   "cell_type": "code",
   "execution_count": null,
   "id": "057ef4b5",
   "metadata": {},
   "outputs": [],
   "source": [
    "sports = (\"Soccer\", \"Basketball\", \"Baseball\", \"Tennis\", \"Cricket\")\n",
    "print(sports)\n",
    "print(sports[2:5])  # Accessing the elements between 2:5\n",
    "print(sports[2:])\n",
    "print(sports[:4])"
   ]
  },
  {
   "cell_type": "markdown",
   "id": "0497a652",
   "metadata": {},
   "source": [
    "Update a Tuple using list"
   ]
  },
  {
   "cell_type": "code",
   "execution_count": null,
   "id": "8c36d8fc",
   "metadata": {},
   "outputs": [],
   "source": [
    "sports = (\"Soccer\", \"Basketball\", \"Baseball\", \"Tennis\", \"Cricket\")\n",
    "\n",
    "x = list(sports)  # Convert tuple to list\n",
    "print(x, type(x))\n",
    "x[1] = \"Football\"  # Modify the list\n",
    "sports = tuple(x)  # Convert back to tuple\n",
    "print(sports)\n",
    "print(type(sports))\n",
    "# Python Tuples are immutable sequences, typically used to store collections of heterogeneous data."
   ]
  },
  {
   "cell_type": "markdown",
   "id": "8568998b",
   "metadata": {},
   "source": [
    "Python Sets"
   ]
  },
  {
   "cell_type": "code",
   "execution_count": null,
   "id": "1606fcab",
   "metadata": {},
   "outputs": [],
   "source": [
    "sports = {\"Soccer\", \"Basketball\", \"Baseball\", \"Tennis\", \"Cricket\"}\n",
    "\n",
    "print(sports)\n",
    "print(type(sports))"
   ]
  },
  {
   "cell_type": "markdown",
   "id": "340b54e5",
   "metadata": {},
   "source": [
    "Sets does not allow duplicate values"
   ]
  },
  {
   "cell_type": "code",
   "execution_count": null,
   "id": "99ead6dc",
   "metadata": {},
   "outputs": [],
   "source": [
    "sports = {\"Soccer\", \"Cricket\", \"Baseball\", \"Tennis\", \"Cricket\"}\n",
    "\n",
    "print(sports)"
   ]
  },
  {
   "cell_type": "markdown",
   "id": "89c8e475",
   "metadata": {},
   "source": [
    "Add item to a set"
   ]
  },
  {
   "cell_type": "code",
   "execution_count": null,
   "id": "94bdc90c",
   "metadata": {},
   "outputs": [],
   "source": [
    "sports = {\"Soccer\", \"Cricket\", \"Tennis\"}\n",
    "\n",
    "sports.add(\"football\")  # adds a sibnle item\n",
    "print(sports)           # output -> {'Cricket', 'football', 'Soccer', 'Tennis'}"
   ]
  },
  {
   "cell_type": "markdown",
   "id": "17ee640c",
   "metadata": {},
   "source": [
    "Update item in a set"
   ]
  },
  {
   "cell_type": "code",
   "execution_count": null,
   "id": "0b68ae70",
   "metadata": {},
   "outputs": [],
   "source": [
    "sports = {\"Soccer\", \"Cricket\", \"Tennis\"}\n",
    "\n",
    "sports.update([\"baseball\", \"golf\"])     \n",
    "print(sports) "
   ]
  },
  {
   "cell_type": "markdown",
   "id": "b0b746cc",
   "metadata": {},
   "source": [
    "Python Range"
   ]
  },
  {
   "cell_type": "code",
   "execution_count": null,
   "id": "f8672842",
   "metadata": {},
   "outputs": [],
   "source": [
    "range_1 = range(2, 24, 4)\n",
    "print(range_1)\n",
    "print(range)"
   ]
  },
  {
   "cell_type": "markdown",
   "id": "d22633db",
   "metadata": {},
   "source": [
    "Printing range elements"
   ]
  },
  {
   "cell_type": "code",
   "execution_count": null,
   "id": "0d84e97d",
   "metadata": {},
   "outputs": [],
   "source": [
    "print(range[0])\n",
    "print(range[1])\n",
    "print(range[2])"
   ]
  },
  {
   "cell_type": "markdown",
   "id": "5e46b67d",
   "metadata": {},
   "source": [
    "Activity -> Find output"
   ]
  },
  {
   "cell_type": "code",
   "execution_count": null,
   "id": "893b2f1d",
   "metadata": {},
   "outputs": [],
   "source": [
    "range_2 = range(2,7)\n",
    "print(range_2[0])\n",
    "print(range_2[1])\n",
    "print(range_2[2])\n",
    "\n",
    "range_3 = range(6)\n",
    "print(range_3[0])\n",
    "print(range_3[1])\n",
    "print(range_3[2])"
   ]
  },
  {
   "cell_type": "markdown",
   "id": "ee359a96",
   "metadata": {},
   "source": [
    "Dictionary \n",
    "\n",
    "* Does not allow duplicate keys\n",
    "* Ordered\n",
    "* mutable\n",
    "* Can contain any data type, no restrictions\n",
    "\n",
    "* Cannot use the following as dictionary keys\n",
    "    * list -> [1,2]\n",
    "    * dict -> {\"a\",1}\n",
    "    * set  -> {1,2,3}\n",
    "* Can use the following as dictionary keys\n",
    "    * int, float, str, bool\n",
    "    * tuple (only if it contains only hashable types)\n",
    "    * frozenset (immutable ersion of set)"
   ]
  },
  {
   "cell_type": "code",
   "execution_count": null,
   "id": "0afe3c0c",
   "metadata": {},
   "outputs": [],
   "source": [
    "this_dict = {\n",
    "    \"name\" : \"Suger\",\n",
    "    \"weight\" : \"1kg\",\n",
    "    \"price\" : 130.35\n",
    "} \n",
    " \n",
    "print(this_dict)\n",
    "print(type(this_dict)) "
   ]
  },
  {
   "cell_type": "markdown",
   "id": "bf38ef94",
   "metadata": {},
   "source": [
    "get() function"
   ]
  },
  {
   "cell_type": "code",
   "execution_count": null,
   "id": "6092eae1",
   "metadata": {},
   "outputs": [],
   "source": [
    "this_dict = {\n",
    "    \"name\" : \"Suger\",\n",
    "    \"weight\" : \"1kg\",\n",
    "    # \"price\" : 130.35\n",
    "} \n",
    "\n",
    "print(this_dict.get(\"price\", 50.00))  # if the key is not found, it will return the default value 50.00"
   ]
  },
  {
   "cell_type": "markdown",
   "id": "82013ade",
   "metadata": {},
   "source": [
    "Update and add key-value pairs in a dictionary"
   ]
  },
  {
   "cell_type": "code",
   "execution_count": null,
   "id": "83014e66",
   "metadata": {},
   "outputs": [],
   "source": [
    "this_dict = {\n",
    "    \"name\" : \"Suger\",\n",
    "    \"weight\" : \"1kg\",\n",
    "    \"price\" : 130.35\n",
    "} \n",
    "\n",
    "this_dict.update({(\"weight\", \"2kg\"), (\"expire_date\", \"2026-09-02\")})    # updates the weight and adds a new key-value pair expire_date\n",
    "print(this_dict)"
   ]
  },
  {
   "cell_type": "markdown",
   "id": "2a724ddb",
   "metadata": {},
   "source": [
    "Apply pop method to dictionary"
   ]
  },
  {
   "cell_type": "code",
   "execution_count": null,
   "id": "ae3d2905",
   "metadata": {},
   "outputs": [],
   "source": [
    "this_dict = {\n",
    "    \"name\" : \"Suger\",\n",
    "    \"weight\" : \"1kg\",\n",
    "    \"price\" : 130.35\n",
    "}\n",
    "\n",
    "price_popped = this_dict.pop(\"price\")  # deletes the key-value pair with key \"price\"\n",
    "print(this_dict)\n",
    "print(\"Popped price: \" + str(price_popped))"
   ]
  },
  {
   "cell_type": "markdown",
   "id": "3fddc6b7",
   "metadata": {},
   "source": [
    "Apply del method to dictionary"
   ]
  },
  {
   "cell_type": "code",
   "execution_count": null,
   "id": "a4407a08",
   "metadata": {},
   "outputs": [],
   "source": [
    "this_dict = {\n",
    "    \"name\" : \"Suger\",\n",
    "    \"weight\" : \"1kg\",\n",
    "    \"price\" : 130.35\n",
    "}\n",
    "\n",
    "del this_dict[\"price\"]  # deletes the key-value pair with key \"price\"\n",
    "print(this_dict)"
   ]
  },
  {
   "cell_type": "markdown",
   "id": "144a305e",
   "metadata": {},
   "source": [
    "Apply clear method to dictionary"
   ]
  },
  {
   "cell_type": "code",
   "execution_count": null,
   "id": "85d0b6f7",
   "metadata": {},
   "outputs": [],
   "source": [
    "this_dict = {\n",
    "    \"name\" : \"Suger\",\n",
    "    \"weight\" : \"1kg\",\n",
    "    \"price\" : 130.35\n",
    "}\n",
    "\n",
    "this_dict.clear()  # clears the dictionary\n",
    "print(this_dict)"
   ]
  },
  {
   "cell_type": "markdown",
   "id": "cabef907",
   "metadata": {},
   "source": [
    "Activity -> Check duplicates"
   ]
  },
  {
   "cell_type": "code",
   "execution_count": null,
   "id": "833a2f2c",
   "metadata": {},
   "outputs": [],
   "source": [
    "product_ids = [101, 102, 103, 104, 105, 106, 107, 103, 109]\n",
    "\n",
    "unique_product_ids = set(product_ids)  # Convert list to set to remove duplicates\n",
    "has_duplicates = len(product_ids) != len(unique_product_ids)\n",
    "print(\"Has duplicates:\", has_duplicates)  # Output: Has duplicates: True"
   ]
  },
  {
   "cell_type": "markdown",
   "id": "de0b12fe",
   "metadata": {},
   "source": [
    "Identity Operators"
   ]
  },
  {
   "cell_type": "code",
   "execution_count": null,
   "id": "cc1b0b99",
   "metadata": {},
   "outputs": [],
   "source": [
    "x = 5\n",
    "y = 6\n",
    "print(x is y)   # Output: False because the values are different\n",
    "\n",
    "x = 5\n",
    "y = 5\n",
    "print(x is y)   # Output: True because both have the same value\n",
    "                # 'is' checks for identity, not equality\n",
    "                # In Python, small integers and strings are cached, so 'is' may return True for them.\n",
    "                # small integers from -5 to 256 are cached by Python. e kiyanne pool ekaka dla e tika kalin hadala thiyenawa. e nisa me range eke thiyena integer walata is use karoth True wenawa."
   ]
  },
  {
   "cell_type": "markdown",
   "id": "f8ce81f5",
   "metadata": {},
   "source": [
    "Membership operators"
   ]
  },
  {
   "cell_type": "code",
   "execution_count": null,
   "id": "bc742df0",
   "metadata": {},
   "outputs": [],
   "source": [
    "my_list = [1, 2, 3, 4, 5]\n",
    "print(3 in my_list)  # Output: True \n",
    "print(10 in my_list) # Output: False\n",
    "\n",
    "print(8 not in my_list)  # Output: True"
   ]
  },
  {
   "cell_type": "markdown",
   "id": "e99c987b",
   "metadata": {},
   "source": [
    "If statement"
   ]
  },
  {
   "cell_type": "code",
   "execution_count": null,
   "id": "fa1222b9",
   "metadata": {},
   "outputs": [],
   "source": [
    "n = 10\n",
    "\n",
    "if n % 2 == 0:\n",
    "    print(f\"{n} is an even number.\")\n",
    "\n",
    "print(\"This is out of the if block.\")"
   ]
  },
  {
   "cell_type": "markdown",
   "id": "dcec2f8a",
   "metadata": {},
   "source": [
    "If Else statement\n",
    "\n",
    "Calculate Circumference"
   ]
  },
  {
   "cell_type": "code",
   "execution_count": null,
   "id": "dc59d8e0",
   "metadata": {},
   "outputs": [],
   "source": [
    "PI_VAL = 3.14\n",
    "r = 50\n",
    "\n",
    "if r > 0:\n",
    "    print(\"Circumference of the circle is: \", 2 * PI_VAL * r)\n",
    "else:\n",
    "    print(\"Radius cannot be negative or 0.\")"
   ]
  },
  {
   "cell_type": "markdown",
   "id": "11bd844d",
   "metadata": {},
   "source": [
    "Calculate hypotenuse"
   ]
  },
  {
   "cell_type": "code",
   "execution_count": 37,
   "id": "c4e6132a",
   "metadata": {},
   "outputs": [
    {
     "name": "stdout",
     "output_type": "stream",
     "text": [
      "hypotenuse is:  5.0\n"
     ]
    }
   ],
   "source": [
    "x_length = 3\n",
    "y_length = 4\n",
    "\n",
    "if x_length > 0 and y_length > 0:\n",
    "    print(\"hypotenuse is: \", (x_length ** 2 + y_length ** 2) ** 0.5)\n",
    "else:\n",
    "    print(\"Lengths must be positive.\")  "
   ]
  }
 ],
 "metadata": {
  "kernelspec": {
   "display_name": "Python 3",
   "language": "python",
   "name": "python3"
  },
  "language_info": {
   "codemirror_mode": {
    "name": "ipython",
    "version": 3
   },
   "file_extension": ".py",
   "mimetype": "text/x-python",
   "name": "python",
   "nbconvert_exporter": "python",
   "pygments_lexer": "ipython3",
   "version": "3.13.7"
  }
 },
 "nbformat": 4,
 "nbformat_minor": 5
}
